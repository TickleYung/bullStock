{
 "cells": [
  {
   "cell_type": "markdown",
   "metadata": {
    "toc": true
   },
   "source": [
    "<h1>Table of Contents<span class=\"tocSkip\"></span></h1>\n",
    "<div class=\"toc\"><ul class=\"toc-item\"><li><span><a href=\"#大盘简况\" data-toc-modified-id=\"大盘简况-1\"><span class=\"toc-item-num\">1&nbsp;&nbsp;</span>大盘简况</a></span><ul class=\"toc-item\"><li><span><a href=\"#上证指数sh\" data-toc-modified-id=\"上证指数sh-1.1\"><span class=\"toc-item-num\">1.1&nbsp;&nbsp;</span>上证指数sh</a></span></li><li><span><a href=\"#报告\" data-toc-modified-id=\"报告-1.2\"><span class=\"toc-item-num\">1.2&nbsp;&nbsp;</span>报告</a></span></li><li><span><a href=\"#深圳成指sz\" data-toc-modified-id=\"深圳成指sz-1.3\"><span class=\"toc-item-num\">1.3&nbsp;&nbsp;</span>深圳成指sz</a></span></li><li><span><a href=\"#报告\" data-toc-modified-id=\"报告-1.4\"><span class=\"toc-item-num\">1.4&nbsp;&nbsp;</span>报告</a></span></li><li><span><a href=\"#创业板指数cyb\" data-toc-modified-id=\"创业板指数cyb-1.5\"><span class=\"toc-item-num\">1.5&nbsp;&nbsp;</span>创业板指数cyb</a></span></li><li><span><a href=\"#报告\" data-toc-modified-id=\"报告-1.6\"><span class=\"toc-item-num\">1.6&nbsp;&nbsp;</span>报告</a></span></li></ul></li><li><span><a href=\"#重大新闻\" data-toc-modified-id=\"重大新闻-2\"><span class=\"toc-item-num\">2&nbsp;&nbsp;</span>重大新闻</a></span></li><li><span><a href=\"#大盘贡献top10\" data-toc-modified-id=\"大盘贡献top10-3\"><span class=\"toc-item-num\">3&nbsp;&nbsp;</span>大盘贡献top10</a></span></li><li><span><a href=\"#一周涨跌个股top25\" data-toc-modified-id=\"一周涨跌个股top25-4\"><span class=\"toc-item-num\">4&nbsp;&nbsp;</span>一周涨跌个股top25</a></span></li><li><span><a href=\"#一周涨跌板块top5\" data-toc-modified-id=\"一周涨跌板块top5-5\"><span class=\"toc-item-num\">5&nbsp;&nbsp;</span>一周涨跌板块top5</a></span></li><li><span><a href=\"#放量个股top25\" data-toc-modified-id=\"放量个股top25-6\"><span class=\"toc-item-num\">6&nbsp;&nbsp;</span>放量个股top25</a></span></li></ul></div>"
   ]
  },
  {
   "cell_type": "code",
   "execution_count": 58,
   "metadata": {},
   "outputs": [],
   "source": [
    "import tushare as ts\n",
    "import numpy as np"
   ]
  },
  {
   "cell_type": "markdown",
   "metadata": {},
   "source": [
    "## 大盘简况"
   ]
  },
  {
   "cell_type": "code",
   "execution_count": 69,
   "metadata": {},
   "outputs": [
    {
     "name": "stdout",
     "output_type": "stream",
     "text": [
      "('lastClose', 1403)\n",
      "('rise compare to preClose', '6.08%')\n",
      "('fluct last week', '6.76%')\n",
      "('rise compare to max_2018', '26.84%')\n",
      "('rise compare to min_2018', '18.43%')\n",
      "('increase of volumn', '24.95%')\n",
      "('ma5', 1391, True)\n",
      "('ma10', 1365, True)\n",
      "('ma20', 1324, True)\n",
      "('ma30', 1307, True)\n",
      "('ma60', 1365, True)\n",
      "('ma90', 1428, False)\n",
      "('ma180', 1597, False)\n",
      "('ma_all', 1619, False)\n",
      "('max_2018', u'2018-04-02', 1918)\n",
      "('min_2018', u'2018-10-18', 1184)\n"
     ]
    }
   ],
   "source": [
    "# 上证指数sh\n",
    "#df_2018 = ts.get_k_data('sh', start='2018-01-01', end='2018-11-16')\n",
    "#df_2018 = ts.get_k_data('sz', start='2018-01-01', end='2018-11-16')\n",
    "df_2018 = ts.get_k_data('cyb', start='2018-01-01', end='2018-11-16')\n",
    "df_2018.index = df_2018.date\n",
    "df_2018 = df_2018.iloc[::-1]\n",
    "#df_2018.head()\n",
    "preDate ='2018-11-09'\n",
    "lastDate = '2018-11-16'\n",
    "min_2018 = np.min(df_2018.low)\n",
    "max_2018 = np.max(df_2018.high)\n",
    "preClose = df_2018.loc[preDate][2]\n",
    "lastClose = df_2018.loc[lastDate][2]\n",
    "min_last = np.min(df_2018.low[:5])\n",
    "max_last = np.max(df_2018.high[:5])\n",
    "volumn_30 = np.mean(df_2018.volume[:30])\n",
    "volumn_5 = np.mean(df_2018.volume[:5])\n",
    "ma5 = np.mean(df_2018.close[:5])\n",
    "ma10 = np.mean(df_2018.close[:10])\n",
    "ma20 = np.mean(df_2018.close[:20])\n",
    "ma30 = np.mean(df_2018.close[:30])\n",
    "ma60 = np.mean(df_2018.close[:60])\n",
    "ma90 = np.mean(df_2018.close[:90])\n",
    "ma180 = np.mean(df_2018.close[:180])\n",
    "ma_all = np.mean(df_2018.close)\n",
    "# 价位\n",
    "print(\"lastClose\", int(lastClose))\n",
    "# 涨幅\n",
    "print(\"rise compare to preClose\", format((lastClose-preClose)/preClose, '.2%'))\n",
    "# 振幅\n",
    "print(\"fluct last week\", format((max_last-min_last)/lastClose, '.2%'))\n",
    "#\n",
    "print(\"rise compare to max_2018\", format((max_2018-lastClose)/max_2018, '.2%'))\n",
    "print(\"rise compare to min_2018\", format((lastClose-min_2018)/min_2018, '.2%'))\n",
    "# print(\"preClose\", int(preClose))\n",
    "# 量比\n",
    "print(\"increase of volumn\", format((volumn_5-volumn_30)/volumn_30, '.2%'))\n",
    "# 均线\n",
    "print(\"ma5\", int(ma5), lastClose > ma5)\n",
    "print(\"ma10\", int(ma10), lastClose > ma10)\n",
    "print(\"ma20\", int(ma20), lastClose > ma20)\n",
    "print(\"ma30\", int(ma30), lastClose > ma30)\n",
    "print(\"ma60\", int(ma60), lastClose > ma60)\n",
    "print(\"ma90\", int(ma90), lastClose > ma90)\n",
    "print(\"ma180\", int(ma180), lastClose > ma180)\n",
    "print(\"ma_all\", int(ma_all), lastClose > ma_all)\n",
    "# 阻力位\n",
    "#\n",
    "print(\"max_2018\", df_2018.high.idxmax(), int(max_2018))\n",
    "print(\"min_2018\", df_2018.high.idxmin(), int(min_2018))\n"
   ]
  },
  {
   "cell_type": "markdown",
   "metadata": {},
   "source": [
    "### 上证指数sh\n",
    "[![](http://image.sinajs.cn/newchart/daily/n/sh000001.gif)](http://finance.sina.com.cn/realstock/company/sh000001/nc.shtml)"
   ]
  },
  {
   "cell_type": "markdown",
   "metadata": {},
   "source": [
    "### 报告\n",
    "这周收盘点数是2679，整体呈上涨趋势，同比上涨3.12%，波动幅度为3.93%；\n",
    "但相较最高位仍下跌了25.29%，较最低位上涨了9.42%；\n",
    "\n",
    "与30日成交量均值比，这周成交量放大了27.68%；\n",
    "\n",
    "阻力位上，已经突破5、10、20、30、60均线，继续冲击90、180、年线；\n",
    "\n",
    "附：今年总体是下降趋势，最高位是2018-01-29的3587点；最低位是2018-10-18的2449点；"
   ]
  },
  {
   "cell_type": "markdown",
   "metadata": {},
   "source": [
    "### 深圳成指sz\n",
    "[![](http://image.sinajs.cn/newchart/daily/n/sz399001.gif)](http://finance.sina.com.cn/realstock/company/sz399001/nc.shtml)"
   ]
  },
  {
   "cell_type": "markdown",
   "metadata": {},
   "source": [
    "### 报告\n",
    "这周收盘点数是 8062，整体呈上涨趋势，同比上涨5.41%，波动幅度为6.13%；\n",
    "但相较最高位仍下跌了30.70%，较最低位上涨了13.80%；\n",
    "\n",
    "与30日成交量均值比，这周成交量放大了41.96%；\n",
    "\n",
    "阻力位上，已经突破5、10、20、30、60均线，继续冲击90、180、年线；\n",
    "\n",
    "附：今年总体是下降趋势，最高位是2018-01-25的 11633 点；最低位是2018-10-18的 7084 点；"
   ]
  },
  {
   "cell_type": "markdown",
   "metadata": {},
   "source": [
    "### 创业板指数cyb\n",
    "[![](http://image.sinajs.cn/newchart/daily/n/sz399006.gif)](http://finance.sina.com.cn/realstock/company/sz399006/nc.shtml)"
   ]
  },
  {
   "cell_type": "markdown",
   "metadata": {},
   "source": [
    "### 报告\n",
    "这周收盘点数是 1403，整体呈上涨趋势，同比上涨6.08%，波动幅度为6.76%；\n",
    "但相较最高位仍下跌了26.84%，较最低位上涨了18.43；\n",
    "\n",
    "与30日成交量均值比，这周成交量放大了24.95%；\n",
    "\n",
    "阻力位上，已经突破5、10、20、30、60均线，继续冲击90、180、年线；\n",
    "\n",
    "附：今年总体是下降趋势，最高位是2018-04-02的 1918 点；最低位是2018-10-18的 1184 点；"
   ]
  },
  {
   "cell_type": "markdown",
   "metadata": {},
   "source": [
    "## 重大新闻"
   ]
  },
  {
   "cell_type": "markdown",
   "metadata": {},
   "source": [
    "美国大选 - 两党平分\n",
    "\n",
    "国际原油暴跌，天然气暴涨\n",
    "\n",
    "中弘股价低于1元退市\n",
    "\n",
    "科创板 - 恒力实业等创投、壳概念暴涨\n",
    "\n",
    "学前教育新规 - 红黄蓝、威创股份暴跌\n",
    "\n",
    "年度高送转开始炒作 - 正元智慧等暴涨\n",
    "\n",
    "国家出面给大量高危企业排除质押风险\n",
    "\n",
    "重组政策放松 - 垃圾股被游资爆炒\n",
    "\n",
    "习近平参观上海 - 市北高新、张江高科等上海地方股暴涨\n",
    "\n",
    "退市新规 - st长生强制退市，下周看好戏"
   ]
  },
  {
   "cell_type": "markdown",
   "metadata": {},
   "source": [
    "## 大盘贡献top10"
   ]
  },
  {
   "cell_type": "code",
   "execution_count": 84,
   "metadata": {},
   "outputs": [],
   "source": [
    "#ts.get_industry_classified() # 行业分类\n",
    "#ts.get_concept_classified() # 概念分类\n",
    "#ts.get_area_classified() # 地域分类\n",
    "#\n",
    "#ts.get_sme_classified() # 中小板分类\n",
    "#ts.get_gem_classified() # 创业板分类\n",
    "#ts.get_st_classified() # 风险警示板分类\n",
    "#\n",
    "#ts.get_hs300s() # 沪深300成份及权重\n",
    "#ts.get_sz50s() # 上证50成份股\n",
    "#ts.get_zz500s() # 中证500成份股及权重"
   ]
  },
  {
   "cell_type": "code",
   "execution_count": 85,
   "metadata": {},
   "outputs": [],
   "source": [
    "# ts.get_industry_classified().c_name.value_counts()\n",
    "# ts.get_concept_classified().c_name.value_counts()\n",
    "# ts.get_area_classified().area.value_counts()"
   ]
  },
  {
   "cell_type": "markdown",
   "metadata": {},
   "source": [
    "## 一周涨跌个股top25"
   ]
  },
  {
   "cell_type": "code",
   "execution_count": null,
   "metadata": {},
   "outputs": [],
   "source": []
  },
  {
   "cell_type": "markdown",
   "metadata": {},
   "source": [
    "## 一周涨跌板块top5"
   ]
  },
  {
   "cell_type": "code",
   "execution_count": null,
   "metadata": {},
   "outputs": [],
   "source": []
  },
  {
   "cell_type": "markdown",
   "metadata": {},
   "source": [
    "## 放量个股top25"
   ]
  },
  {
   "cell_type": "code",
   "execution_count": null,
   "metadata": {},
   "outputs": [],
   "source": []
  }
 ],
 "metadata": {
  "kernelspec": {
   "display_name": "Python 3",
   "language": "python",
   "name": "python3"
  },
  "language_info": {
   "codemirror_mode": {
    "name": "ipython",
    "version": 3
   },
   "file_extension": ".py",
   "mimetype": "text/x-python",
   "name": "python",
   "nbconvert_exporter": "python",
   "pygments_lexer": "ipython3",
   "version": "3.7.0"
  },
  "toc": {
   "base_numbering": 1,
   "nav_menu": {},
   "number_sections": true,
   "sideBar": true,
   "skip_h1_title": false,
   "title_cell": "Table of Contents",
   "title_sidebar": "Contents",
   "toc_cell": true,
   "toc_position": {
    "height": "calc(100% - 180px)",
    "left": "10px",
    "top": "150px",
    "width": "178px"
   },
   "toc_section_display": true,
   "toc_window_display": true
  }
 },
 "nbformat": 4,
 "nbformat_minor": 2
}
