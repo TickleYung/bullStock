{
 "cells": [
  {
   "cell_type": "markdown",
   "metadata": {},
   "source": [
    "# tushare for python2"
   ]
  },
  {
   "cell_type": "code",
   "execution_count": 1,
   "metadata": {},
   "outputs": [],
   "source": [
    "import tushare as ts"
   ]
  },
  {
   "cell_type": "markdown",
   "metadata": {},
   "source": [
    "## 获取某家公司的财务信息"
   ]
  },
  {
   "cell_type": "code",
   "execution_count": 2,
   "metadata": {},
   "outputs": [
    {
     "name": "stdout",
     "output_type": "stream",
     "text": [
      "<class 'pandas.core.frame.DataFrame'>\n",
      "Index: 3538 entries, 600186 to 300724\n",
      "Data columns (total 22 columns):\n",
      "name                3538 non-null object\n",
      "industry            3538 non-null object\n",
      "area                3538 non-null object\n",
      "pe                  3538 non-null float64\n",
      "outstanding         3538 non-null float64\n",
      "totals              3538 non-null float64\n",
      "totalAssets         3538 non-null float64\n",
      "liquidAssets        3538 non-null float64\n",
      "fixedAssets         3538 non-null float64\n",
      "reserved            3538 non-null float64\n",
      "reservedPerShare    3538 non-null float64\n",
      "esp                 3538 non-null float64\n",
      "bvps                3538 non-null float64\n",
      "pb                  3538 non-null float64\n",
      "timeToMarket        3538 non-null int64\n",
      "undp                3538 non-null float64\n",
      "perundp             3538 non-null float64\n",
      "rev                 3538 non-null float64\n",
      "profit              3538 non-null float64\n",
      "gpr                 3538 non-null float64\n",
      "npr                 3538 non-null float64\n",
      "holders             3538 non-null float64\n",
      "dtypes: float64(18), int64(1), object(3)\n",
      "memory usage: 635.7+ KB\n"
     ]
    }
   ],
   "source": [
    "all = ts.get_stock_basics()\n",
    "all.info()"
   ]
  },
  {
   "cell_type": "code",
   "execution_count": 3,
   "metadata": {},
   "outputs": [
    {
     "data": {
      "text/plain": [
       "name                    华大基因\n",
       "industry                医疗保健\n",
       "area                      深圳\n",
       "pe                     78.31\n",
       "outstanding             2.47\n",
       "totals                     4\n",
       "totalAssets           504989\n",
       "liquidAssets          369130\n",
       "fixedAssets          77748.9\n",
       "reserved              296826\n",
       "reservedPerShare        7.42\n",
       "esp                    0.252\n",
       "bvps                   10.54\n",
       "pb                      7.48\n",
       "timeToMarket        20170714\n",
       "undp                 80426.1\n",
       "perundp                 2.01\n",
       "rev                    33.13\n",
       "profit                  6.71\n",
       "gpr                    53.68\n",
       "npr                    19.51\n",
       "holders                37289\n",
       "Name: 300676, dtype: object"
      ]
     },
     "execution_count": 3,
     "metadata": {},
     "output_type": "execute_result"
    }
   ],
   "source": [
    "all.loc[\"300676\"]"
   ]
  },
  {
   "cell_type": "markdown",
   "metadata": {},
   "source": [
    "# 存储为csv格式，在R中做下游分析"
   ]
  },
  {
   "cell_type": "markdown",
   "metadata": {},
   "source": [
    "## 1.选出0.25、0.5、1、2年内每个股所处的价位比，比如如果某股在0.5年内处于（max-min）的0%，那它就是半年内一直跌\n",
    "我比较喜欢那种已经大跌过，但现在开始启动行情的个股。"
   ]
  },
  {
   "cell_type": "code",
   "execution_count": null,
   "metadata": {},
   "outputs": [],
   "source": []
  },
  {
   "cell_type": "markdown",
   "metadata": {},
   "source": [
    "# 2.每个股票之间的相关性分析，以及其与大盘、外汇、外盘的相关性分析。找出一些股票模块。 "
   ]
  },
  {
   "cell_type": "code",
   "execution_count": null,
   "metadata": {},
   "outputs": [],
   "source": []
  },
  {
   "cell_type": "markdown",
   "metadata": {},
   "source": [
    "# 3.根据财务指标对每个行业的个股进行排序，不碰行业的吊车尾。不碰有太多负债、恶性资产且没有盈利能力的公司。不碰即将解禁、做空势力大的股票（现在的华大）。"
   ]
  },
  {
   "cell_type": "code",
   "execution_count": null,
   "metadata": {},
   "outputs": [],
   "source": []
  },
  {
   "cell_type": "markdown",
   "metadata": {},
   "source": [
    "# 4.开发一款工具来检测启动/反势行情"
   ]
  },
  {
   "cell_type": "code",
   "execution_count": null,
   "metadata": {},
   "outputs": [],
   "source": []
  },
  {
   "cell_type": "markdown",
   "metadata": {},
   "source": [
    "# 5.最终肯定会筛选出一些个股，需要建立一套完善的个股评价标准，确定最终是否应该买入。"
   ]
  },
  {
   "cell_type": "code",
   "execution_count": null,
   "metadata": {},
   "outputs": [],
   "source": []
  },
  {
   "cell_type": "markdown",
   "metadata": {},
   "source": [
    "# 6.交易策略的历史验证"
   ]
  },
  {
   "cell_type": "code",
   "execution_count": null,
   "metadata": {},
   "outputs": [],
   "source": []
  },
  {
   "cell_type": "markdown",
   "metadata": {},
   "source": [
    "# 7.永远不要做纯粹主观的交易"
   ]
  },
  {
   "cell_type": "code",
   "execution_count": null,
   "metadata": {},
   "outputs": [],
   "source": []
  }
 ],
 "metadata": {
  "kernelspec": {
   "display_name": "Python 2",
   "language": "python",
   "name": "python2"
  },
  "language_info": {
   "codemirror_mode": {
    "name": "ipython",
    "version": 2
   },
   "file_extension": ".py",
   "mimetype": "text/x-python",
   "name": "python",
   "nbconvert_exporter": "python",
   "pygments_lexer": "ipython2",
   "version": "2.7.14"
  }
 },
 "nbformat": 4,
 "nbformat_minor": 2
}
